{
  "nbformat": 4,
  "nbformat_minor": 0,
  "metadata": {
    "colab": {
      "provenance": []
    },
    "kernelspec": {
      "name": "python3",
      "display_name": "Python 3"
    },
    "language_info": {
      "name": "python"
    }
  },
  "cells": [
    {
      "cell_type": "code",
      "execution_count": 12,
      "metadata": {
        "id": "h0VsiWeT50EG"
      },
      "outputs": [],
      "source": [
        "import numpy as np"
      ]
    },
    {
      "cell_type": "code",
      "source": [
        "arr = np.random.rand(5,5)"
      ],
      "metadata": {
        "id": "PGi85mJk9S-o"
      },
      "execution_count": 13,
      "outputs": []
    },
    {
      "cell_type": "code",
      "source": [
        "arr"
      ],
      "metadata": {
        "colab": {
          "base_uri": "https://localhost:8080/"
        },
        "id": "B4ZIFJAfA75x",
        "outputId": "a0d7dd64-d7c1-4721-81d8-c989664cf495"
      },
      "execution_count": 14,
      "outputs": [
        {
          "output_type": "execute_result",
          "data": {
            "text/plain": [
              "array([[0.06083991, 0.9863704 , 0.7238413 , 0.80779173, 0.80859051],\n",
              "       [0.25920939, 0.00313495, 0.35331725, 0.30586298, 0.94711793],\n",
              "       [0.27162212, 0.73397283, 0.69628622, 0.6663517 , 0.5386324 ],\n",
              "       [0.75902329, 0.59617735, 0.15336225, 0.12275443, 0.27665806],\n",
              "       [0.99403691, 0.63195094, 0.96252226, 0.02064015, 0.36887806]])"
            ]
          },
          "metadata": {},
          "execution_count": 14
        }
      ]
    },
    {
      "cell_type": "code",
      "source": [
        "arr.shape"
      ],
      "metadata": {
        "colab": {
          "base_uri": "https://localhost:8080/"
        },
        "id": "Dwe4OOL2BAxq",
        "outputId": "9d554361-1469-40ab-e980-91b063f7614a"
      },
      "execution_count": 15,
      "outputs": [
        {
          "output_type": "execute_result",
          "data": {
            "text/plain": [
              "(5, 5)"
            ]
          },
          "metadata": {},
          "execution_count": 15
        }
      ]
    },
    {
      "cell_type": "code",
      "source": [
        "arr.dtype"
      ],
      "metadata": {
        "colab": {
          "base_uri": "https://localhost:8080/"
        },
        "id": "vbZCTi7pBDPI",
        "outputId": "ffd43b9a-5ab4-4015-8091-3e91fe52af81"
      },
      "execution_count": 16,
      "outputs": [
        {
          "output_type": "execute_result",
          "data": {
            "text/plain": [
              "dtype('float64')"
            ]
          },
          "metadata": {},
          "execution_count": 16
        }
      ]
    },
    {
      "cell_type": "code",
      "source": [
        "arr[:4]"
      ],
      "metadata": {
        "colab": {
          "base_uri": "https://localhost:8080/"
        },
        "id": "0MW2ogj9BGfN",
        "outputId": "9a2e8326-cf41-402c-a55b-9c98bb533532"
      },
      "execution_count": 17,
      "outputs": [
        {
          "output_type": "execute_result",
          "data": {
            "text/plain": [
              "array([[0.06083991, 0.9863704 , 0.7238413 , 0.80779173, 0.80859051],\n",
              "       [0.25920939, 0.00313495, 0.35331725, 0.30586298, 0.94711793],\n",
              "       [0.27162212, 0.73397283, 0.69628622, 0.6663517 , 0.5386324 ],\n",
              "       [0.75902329, 0.59617735, 0.15336225, 0.12275443, 0.27665806]])"
            ]
          },
          "metadata": {},
          "execution_count": 17
        }
      ]
    },
    {
      "cell_type": "code",
      "source": [
        "arr[4]"
      ],
      "metadata": {
        "colab": {
          "base_uri": "https://localhost:8080/"
        },
        "id": "0Qfdaqz1BSQ-",
        "outputId": "612002ce-7064-4bed-f6d9-57cc41fa441e"
      },
      "execution_count": 18,
      "outputs": [
        {
          "output_type": "execute_result",
          "data": {
            "text/plain": [
              "array([0.99403691, 0.63195094, 0.96252226, 0.02064015, 0.36887806])"
            ]
          },
          "metadata": {},
          "execution_count": 18
        }
      ]
    },
    {
      "cell_type": "code",
      "source": [
        "arr[:4].shape"
      ],
      "metadata": {
        "colab": {
          "base_uri": "https://localhost:8080/"
        },
        "id": "nwqNT0IbBmho",
        "outputId": "7cfafe5b-6670-4001-a29b-486bb312b365"
      },
      "execution_count": 19,
      "outputs": [
        {
          "output_type": "execute_result",
          "data": {
            "text/plain": [
              "(4, 5)"
            ]
          },
          "metadata": {},
          "execution_count": 19
        }
      ]
    },
    {
      "cell_type": "code",
      "source": [
        "arr[:, :4]"
      ],
      "metadata": {
        "colab": {
          "base_uri": "https://localhost:8080/"
        },
        "id": "aI6v753zBzim",
        "outputId": "b419dc63-6cb3-4889-9351-53ea42b80af5"
      },
      "execution_count": 20,
      "outputs": [
        {
          "output_type": "execute_result",
          "data": {
            "text/plain": [
              "array([[0.06083991, 0.9863704 , 0.7238413 , 0.80779173],\n",
              "       [0.25920939, 0.00313495, 0.35331725, 0.30586298],\n",
              "       [0.27162212, 0.73397283, 0.69628622, 0.6663517 ],\n",
              "       [0.75902329, 0.59617735, 0.15336225, 0.12275443],\n",
              "       [0.99403691, 0.63195094, 0.96252226, 0.02064015]])"
            ]
          },
          "metadata": {},
          "execution_count": 20
        }
      ]
    },
    {
      "cell_type": "code",
      "source": [
        "arr[1,1]"
      ],
      "metadata": {
        "colab": {
          "base_uri": "https://localhost:8080/"
        },
        "id": "mI3FC_S1CF5l",
        "outputId": "06f0e423-ee70-4d5d-c37e-42faa84b788f"
      },
      "execution_count": 21,
      "outputs": [
        {
          "output_type": "execute_result",
          "data": {
            "text/plain": [
              "0.003134954171479687"
            ]
          },
          "metadata": {},
          "execution_count": 21
        }
      ]
    },
    {
      "cell_type": "code",
      "source": [
        "arr[:-1]"
      ],
      "metadata": {
        "colab": {
          "base_uri": "https://localhost:8080/"
        },
        "id": "AwJ64wZcCO9e",
        "outputId": "8e8d4a22-aa7b-45d0-e735-a7dc8b93f019"
      },
      "execution_count": 22,
      "outputs": [
        {
          "output_type": "execute_result",
          "data": {
            "text/plain": [
              "array([[0.06083991, 0.9863704 , 0.7238413 , 0.80779173, 0.80859051],\n",
              "       [0.25920939, 0.00313495, 0.35331725, 0.30586298, 0.94711793],\n",
              "       [0.27162212, 0.73397283, 0.69628622, 0.6663517 , 0.5386324 ],\n",
              "       [0.75902329, 0.59617735, 0.15336225, 0.12275443, 0.27665806]])"
            ]
          },
          "metadata": {},
          "execution_count": 22
        }
      ]
    },
    {
      "cell_type": "code",
      "source": [
        "int_arr = np.random.randint(5,size = (6,8))"
      ],
      "metadata": {
        "id": "nXJvJnEbCmrF"
      },
      "execution_count": 23,
      "outputs": []
    },
    {
      "cell_type": "code",
      "source": [
        "int_arr_0 = int_arr[0]"
      ],
      "metadata": {
        "id": "xb5YT25MInPP"
      },
      "execution_count": 24,
      "outputs": []
    },
    {
      "cell_type": "code",
      "source": [
        "int_arr_0"
      ],
      "metadata": {
        "colab": {
          "base_uri": "https://localhost:8080/"
        },
        "id": "8AzEEGNdIstu",
        "outputId": "849dda06-8be6-4caf-bb9e-806f510761bf"
      },
      "execution_count": 25,
      "outputs": [
        {
          "output_type": "execute_result",
          "data": {
            "text/plain": [
              "array([3, 0, 2, 2, 1, 3, 3, 3])"
            ]
          },
          "metadata": {},
          "execution_count": 25
        }
      ]
    },
    {
      "cell_type": "code",
      "source": [
        "int_arr_0 == 0"
      ],
      "metadata": {
        "colab": {
          "base_uri": "https://localhost:8080/"
        },
        "id": "gZVI1_WMIvVh",
        "outputId": "85ba0f20-2611-4765-8d47-5886bbded0ca"
      },
      "execution_count": 26,
      "outputs": [
        {
          "output_type": "execute_result",
          "data": {
            "text/plain": [
              "array([False,  True, False, False, False, False, False, False])"
            ]
          },
          "metadata": {},
          "execution_count": 26
        }
      ]
    },
    {
      "cell_type": "code",
      "source": [
        "int_arr_0 == 2"
      ],
      "metadata": {
        "colab": {
          "base_uri": "https://localhost:8080/"
        },
        "id": "f5jClWUBKQTO",
        "outputId": "09bb03a4-a446-4e11-eba4-822ed4b27992"
      },
      "execution_count": 28,
      "outputs": [
        {
          "output_type": "execute_result",
          "data": {
            "text/plain": [
              "array([False, False,  True,  True, False, False, False, False])"
            ]
          },
          "metadata": {},
          "execution_count": 28
        }
      ]
    }
  ]
}