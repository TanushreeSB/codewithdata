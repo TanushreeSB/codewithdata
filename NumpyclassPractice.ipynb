{
  "nbformat": 4,
  "nbformat_minor": 0,
  "metadata": {
    "colab": {
      "provenance": []
    },
    "kernelspec": {
      "name": "python3",
      "display_name": "Python 3"
    },
    "language_info": {
      "name": "python"
    }
  },
  "cells": [
    {
      "cell_type": "code",
      "execution_count": 1,
      "metadata": {
        "colab": {
          "base_uri": "https://localhost:8080/"
        },
        "id": "aAaRK3FCVc8e",
        "outputId": "6a5936f2-806a-4fc8-e47f-ea14c50b18ac"
      },
      "outputs": [
        {
          "output_type": "stream",
          "name": "stdout",
          "text": [
            "Array: [2 4 6 8]\n"
          ]
        }
      ],
      "source": [
        "import numpy as np\n",
        "arr = np.array([2,4,6,8])\n",
        "print(\"Array:\",arr)"
      ]
    },
    {
      "cell_type": "code",
      "source": [
        "print(\"Shape(dimensions):\",arr.shape)\n",
        "print(\"Data Type of elemnets:\",arr.dtype)\n",
        "print(\"Size(total number of elements):\",arr.size)\n",
        "print(\"NUmber of dimensions:\",arr.ndim)"
      ],
      "metadata": {
        "colab": {
          "base_uri": "https://localhost:8080/"
        },
        "id": "Gn41Cdg7VnI2",
        "outputId": "7b0acc8d-45a4-4531-8ea1-74b4226f737c"
      },
      "execution_count": 2,
      "outputs": [
        {
          "output_type": "stream",
          "name": "stdout",
          "text": [
            "Shape(dimensions): (4,)\n",
            "Data Type of elemnets: int64\n",
            "Size(total number of elements): 4\n",
            "NUmber of dimensions: 1\n"
          ]
        }
      ]
    },
    {
      "cell_type": "code",
      "source": [
        "zero_array = np.zeros((3,3))\n",
        "print(\"Zero Array: \\n\", zero_array)"
      ],
      "metadata": {
        "colab": {
          "base_uri": "https://localhost:8080/"
        },
        "id": "MVH7MNnvWOY-",
        "outputId": "50c8397c-625c-4952-a3e0-a2f1bfb8a5fa"
      },
      "execution_count": 4,
      "outputs": [
        {
          "output_type": "stream",
          "name": "stdout",
          "text": [
            "Zero Array: \n",
            " [[0. 0. 0.]\n",
            " [0. 0. 0.]\n",
            " [0. 0. 0.]]\n"
          ]
        }
      ]
    },
    {
      "cell_type": "code",
      "source": [
        "ones_array = np.ones((2,4))\n",
        "print(\"Ones Array: \\n\", ones_array)"
      ],
      "metadata": {
        "colab": {
          "base_uri": "https://localhost:8080/"
        },
        "id": "ik185gFdWu_2",
        "outputId": "02141040-9fb1-4d42-bbe0-ad5c13165286"
      },
      "execution_count": 5,
      "outputs": [
        {
          "output_type": "stream",
          "name": "stdout",
          "text": [
            "Ones Array: \n",
            " [[1. 1. 1. 1.]\n",
            " [1. 1. 1. 1.]]\n"
          ]
        }
      ]
    },
    {
      "cell_type": "code",
      "source": [
        "random_array = np.random.random((3,3))\n",
        "print(\"Random Array: \\n\", random_array)"
      ],
      "metadata": {
        "colab": {
          "base_uri": "https://localhost:8080/"
        },
        "id": "cGXP3VD2XGGo",
        "outputId": "eeeddf46-cd6f-4013-c26b-f6d495b68187"
      },
      "execution_count": 6,
      "outputs": [
        {
          "output_type": "stream",
          "name": "stdout",
          "text": [
            "Random Array: \n",
            " [[0.49063591 0.03615246 0.09636761]\n",
            " [0.85538105 0.25609079 0.97368504]\n",
            " [0.93294384 0.01894721 0.77145817]]\n"
          ]
        }
      ]
    },
    {
      "cell_type": "code",
      "source": [
        "identity_matrix = np.eye(4)\n",
        "print(\"Identity Matrix: \\n\", identity_matrix)"
      ],
      "metadata": {
        "colab": {
          "base_uri": "https://localhost:8080/"
        },
        "id": "7qdGDm8tXWJN",
        "outputId": "c2605ede-d637-409d-c772-cb0a69f95705"
      },
      "execution_count": 7,
      "outputs": [
        {
          "output_type": "stream",
          "name": "stdout",
          "text": [
            "Identity Matrix: \n",
            " [[1. 0. 0. 0.]\n",
            " [0. 1. 0. 0.]\n",
            " [0. 0. 1. 0.]\n",
            " [0. 0. 0. 1.]]\n"
          ]
        }
      ]
    },
    {
      "cell_type": "code",
      "source": [
        "arr = np.array([[1,2,3],[4,5,6]])\n",
        "print(\"Number of dimensions:\",arr.ndim)"
      ],
      "metadata": {
        "colab": {
          "base_uri": "https://localhost:8080/"
        },
        "id": "C3dkciIsXZ3A",
        "outputId": "2f3e6687-5c54-41b8-cd49-13165275e280"
      },
      "execution_count": 9,
      "outputs": [
        {
          "output_type": "stream",
          "name": "stdout",
          "text": [
            "Number of dimensions: 2\n"
          ]
        }
      ]
    },
    {
      "cell_type": "code",
      "source": [
        "arr = np.array([3,4,5], dtype=np.int32)\n",
        "print(\"Byte size of element:\",arr.itemsize)"
      ],
      "metadata": {
        "colab": {
          "base_uri": "https://localhost:8080/"
        },
        "id": "VRfwiV4aYuDW",
        "outputId": "b81bec6d-e7c7-4fcb-f5e9-794f35b0e268"
      },
      "execution_count": 10,
      "outputs": [
        {
          "output_type": "stream",
          "name": "stdout",
          "text": [
            "Byte size of element: 4\n"
          ]
        }
      ]
    },
    {
      "cell_type": "code",
      "source": [
        "arr = np.array([1.5,2.5,3.8])\n",
        "print(\"data type of elements:\",arr.dtype)"
      ],
      "metadata": {
        "colab": {
          "base_uri": "https://localhost:8080/"
        },
        "id": "urSzzS_AZORb",
        "outputId": "45fc6526-503f-4577-ef8b-4eb42514edb1"
      },
      "execution_count": 11,
      "outputs": [
        {
          "output_type": "stream",
          "name": "stdout",
          "text": [
            "data type of elements: float64\n"
          ]
        }
      ]
    },
    {
      "cell_type": "code",
      "source": [
        "arr = np.array([11,22,33,44,55])\n",
        "print(\"Sliced Array:\\n\",arr[1:3])"
      ],
      "metadata": {
        "colab": {
          "base_uri": "https://localhost:8080/"
        },
        "id": "T_yN6h3cZwfU",
        "outputId": "e38225d1-9880-45aa-f47c-5aeacab3243e"
      },
      "execution_count": 15,
      "outputs": [
        {
          "output_type": "stream",
          "name": "stdout",
          "text": [
            "Sliced Array:\n",
            " [22 33]\n"
          ]
        }
      ]
    },
    {
      "cell_type": "code",
      "source": [
        "arr = np.linspace(1,10,5)\n",
        "print(\"Evenly Spaced array:\\n\",arr)"
      ],
      "metadata": {
        "colab": {
          "base_uri": "https://localhost:8080/"
        },
        "id": "CaD37wXMZ6YH",
        "outputId": "8c7a61c1-5105-45e7-fb66-a197df51e583"
      },
      "execution_count": 16,
      "outputs": [
        {
          "output_type": "stream",
          "name": "stdout",
          "text": [
            "Evenly Spaced array:\n",
            " [ 1.    3.25  5.5   7.75 10.  ]\n"
          ]
        }
      ]
    },
    {
      "cell_type": "code",
      "source": [
        "arr = np.array([25,36,81])\n",
        "print(\"Max:\",arr.max())\n",
        "print(\"Min:\",arr.min())\n",
        "print(\"Sum:\",arr.sum())\n",
        "print(\"Square root:\",np.sqrt(arr))"
      ],
      "metadata": {
        "colab": {
          "base_uri": "https://localhost:8080/"
        },
        "id": "RHGKR2DdanFb",
        "outputId": "95fbe189-c572-40cf-c2f0-6180122faca7"
      },
      "execution_count": 17,
      "outputs": [
        {
          "output_type": "stream",
          "name": "stdout",
          "text": [
            "Max: 81\n",
            "Min: 25\n",
            "Sum: 142\n",
            "Square root: [5. 6. 9.]\n"
          ]
        }
      ]
    },
    {
      "cell_type": "code",
      "source": [
        "arr = np.array([[1,2,3],[4,5,6]])\n",
        "print(\"Flattened array: \",arr.ravel())"
      ],
      "metadata": {
        "colab": {
          "base_uri": "https://localhost:8080/"
        },
        "id": "gZQMujaCbDLQ",
        "outputId": "8b4b8054-5cf2-4377-dbf3-4bdd0791ba39"
      },
      "execution_count": 18,
      "outputs": [
        {
          "output_type": "stream",
          "name": "stdout",
          "text": [
            "Flattened array:  [1 2 3 4 5 6]\n"
          ]
        }
      ]
    },
    {
      "cell_type": "code",
      "source": [
        "import numpy as np\n",
        "arr1 = np.array([1,2,3])\n",
        "arr2 = np.array([4,5,6])\n",
        "print(\"Concatenated array:\",np.concatenate((arr1,arr2)))"
      ],
      "metadata": {
        "colab": {
          "base_uri": "https://localhost:8080/"
        },
        "id": "t81ZKta8bShI",
        "outputId": "bb433f6e-0ba7-406d-cc18-f0693de848ec"
      },
      "execution_count": 19,
      "outputs": [
        {
          "output_type": "stream",
          "name": "stdout",
          "text": [
            "Concatenated array: [1 2 3 4 5 6]\n"
          ]
        }
      ]
    },
    {
      "cell_type": "code",
      "source": [
        "stacked_array = np.stack((arr1,arr2),axis=1)\n",
        "print(\"Stacked array:\\n\",stacked_array)"
      ],
      "metadata": {
        "colab": {
          "base_uri": "https://localhost:8080/"
        },
        "id": "Hr7WE233bt7X",
        "outputId": "233c0ba9-279b-4625-9f8d-c5105768dca8"
      },
      "execution_count": 20,
      "outputs": [
        {
          "output_type": "stream",
          "name": "stdout",
          "text": [
            "Stacked array:\n",
            " [[1 4]\n",
            " [2 5]\n",
            " [3 6]]\n"
          ]
        }
      ]
    },
    {
      "cell_type": "code",
      "source": [
        "stack_array = np.hstack((arr1,arr2))\n",
        "print(\"Horizontal Stacked array:\",stack_array)"
      ],
      "metadata": {
        "colab": {
          "base_uri": "https://localhost:8080/"
        },
        "id": "SJmzsHSGbyVk",
        "outputId": "af36e6f5-d509-4a19-bc25-e0dbf7983d1b"
      },
      "execution_count": 21,
      "outputs": [
        {
          "output_type": "stream",
          "name": "stdout",
          "text": [
            "Horizontal Stacked array: [1 2 3 4 5 6]\n"
          ]
        }
      ]
    },
    {
      "cell_type": "code",
      "source": [
        "stack_array = np.vstack((arr1,arr2))\n",
        "print(\"Vertical Stacked array:\\n\",stack_array)"
      ],
      "metadata": {
        "colab": {
          "base_uri": "https://localhost:8080/"
        },
        "id": "DYEnBQyob-S9",
        "outputId": "616fa9d7-6445-417b-b52e-2f85c51f4928"
      },
      "execution_count": 22,
      "outputs": [
        {
          "output_type": "stream",
          "name": "stdout",
          "text": [
            "Vertical Stacked array:\n",
            " [[1 2 3]\n",
            " [4 5 6]]\n"
          ]
        }
      ]
    },
    {
      "cell_type": "code",
      "source": [
        "arr = np.array([1,2,3,4,5,6])\n",
        "print(\"Splitted array:\\n\",np.array_split(arr,3))"
      ],
      "metadata": {
        "colab": {
          "base_uri": "https://localhost:8080/"
        },
        "id": "P2O9GDyEcApZ",
        "outputId": "a99d3e74-09c5-44af-9c8c-25144308012c"
      },
      "execution_count": 23,
      "outputs": [
        {
          "output_type": "stream",
          "name": "stdout",
          "text": [
            "Splitted array:\n",
            " [array([1, 2]), array([3, 4]), array([5, 6])]\n"
          ]
        }
      ]
    },
    {
      "cell_type": "code",
      "source": [
        "arr = np.array([10,20,30,40,50])\n",
        "indices = np.where(arr == 30)\n",
        "print(\"Index of 30P:\",indices)"
      ],
      "metadata": {
        "colab": {
          "base_uri": "https://localhost:8080/"
        },
        "id": "CjNtWUPPcnnN",
        "outputId": "c95d64ea-f0ed-4a1d-d89d-5d3be62a0dc8"
      },
      "execution_count": 24,
      "outputs": [
        {
          "output_type": "stream",
          "name": "stdout",
          "text": [
            "Index of 30P: (array([2]),)\n"
          ]
        }
      ]
    },
    {
      "cell_type": "code",
      "source": [
        "arr = np.array([3,4,6,7])\n",
        "sorted_array = np.sort(arr)\n",
        "print(\"Sorted array:\",sorted_array)"
      ],
      "metadata": {
        "colab": {
          "base_uri": "https://localhost:8080/"
        },
        "id": "53JfoU-Nc4ge",
        "outputId": "eb69129f-a66e-4b13-c425-b8c5b08c15c9"
      },
      "execution_count": 25,
      "outputs": [
        {
          "output_type": "stream",
          "name": "stdout",
          "text": [
            "Sorted array: [3 4 6 7]\n"
          ]
        }
      ]
    },
    {
      "cell_type": "code",
      "source": [
        "arr = np.array([10,20,30,40])\n",
        "print(\"Element at index 2:\",arr[2])"
      ],
      "metadata": {
        "colab": {
          "base_uri": "https://localhost:8080/"
        },
        "id": "GDb6s_jldjFe",
        "outputId": "3f3e0388-c5cc-486d-e1e5-920258f287b3"
      },
      "execution_count": 26,
      "outputs": [
        {
          "output_type": "stream",
          "name": "stdout",
          "text": [
            "Element at index 2: 30\n"
          ]
        }
      ]
    },
    {
      "cell_type": "code",
      "source": [
        "print(\"Slice[1:3]\",arr[1:3])"
      ],
      "metadata": {
        "colab": {
          "base_uri": "https://localhost:8080/"
        },
        "id": "yanQKwceduQc",
        "outputId": "6f31d98c-cd43-4a7a-fd02-92b844672051"
      },
      "execution_count": 27,
      "outputs": [
        {
          "output_type": "stream",
          "name": "stdout",
          "text": [
            "Slice[1:3] [20 30]\n"
          ]
        }
      ]
    },
    {
      "cell_type": "code",
      "source": [
        "for x in arr:\n",
        "    print(\"Element:\",x)"
      ],
      "metadata": {
        "colab": {
          "base_uri": "https://localhost:8080/"
        },
        "id": "aa7XBGq_dzeW",
        "outputId": "b100f4b4-e9a7-4b6c-bd7d-4dc9163793c3"
      },
      "execution_count": 29,
      "outputs": [
        {
          "output_type": "stream",
          "name": "stdout",
          "text": [
            "Element: 10\n",
            "Element: 20\n",
            "Element: 30\n",
            "Element: 40\n"
          ]
        }
      ]
    },
    {
      "cell_type": "code",
      "source": [
        "original = np.array([1,2,3,4])\n",
        "copied = original.copy()\n",
        "copied[0] = 100\n",
        "print(\"Original:\",original)\n",
        "print(\"Copied array:\",copied)"
      ],
      "metadata": {
        "colab": {
          "base_uri": "https://localhost:8080/"
        },
        "id": "SKejH7k_d2U5",
        "outputId": "3e880b0e-9915-494e-b3d8-6083cbbb9c7a"
      },
      "execution_count": 32,
      "outputs": [
        {
          "output_type": "stream",
          "name": "stdout",
          "text": [
            "Original: [1 2 3 4]\n",
            "Copied array: [100   2   3   4]\n"
          ]
        }
      ]
    },
    {
      "cell_type": "code",
      "source": [
        "arr = np.array([1,2,3,4,5,6])\n",
        "reshaped_array = arr.reshape(2,3)\n",
        "print(\"Reshaped array:\\n\",reshaped_array)"
      ],
      "metadata": {
        "colab": {
          "base_uri": "https://localhost:8080/"
        },
        "id": "8a6chgZbepCv",
        "outputId": "2f7ac4a5-9a23-4fbd-cbde-5b1a574102ad"
      },
      "execution_count": 31,
      "outputs": [
        {
          "output_type": "stream",
          "name": "stdout",
          "text": [
            "Reshaped array:\n",
            " [[1 2 3]\n",
            " [4 5 6]]\n"
          ]
        }
      ]
    },
    {
      "cell_type": "code",
      "source": [],
      "metadata": {
        "id": "NDlu3iTdew0U"
      },
      "execution_count": null,
      "outputs": []
    }
  ]
}