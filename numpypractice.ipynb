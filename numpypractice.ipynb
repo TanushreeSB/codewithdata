{
 "cells": [
  {
   "cell_type": "code",
   "execution_count": 1,
   "id": "272a56ad-7c32-4b94-b105-6c0c49b2be6c",
   "metadata": {},
   "outputs": [],
   "source": [
    "import numpy as np"
   ]
  },
  {
   "cell_type": "code",
   "execution_count": 2,
   "id": "c69359f4-32c8-493d-86fc-7d06209ae74e",
   "metadata": {},
   "outputs": [],
   "source": [
    "python_list = [1,2,3,4,5]"
   ]
  },
  {
   "cell_type": "code",
   "execution_count": 3,
   "id": "ae9e088c-2f4f-456a-924e-5f41f72193cf",
   "metadata": {},
   "outputs": [
    {
     "data": {
      "text/plain": [
       "[1, 2, 3, 4, 5]"
      ]
     },
     "execution_count": 3,
     "metadata": {},
     "output_type": "execute_result"
    }
   ],
   "source": [
    "python_list"
   ]
  },
  {
   "cell_type": "code",
   "execution_count": 4,
   "id": "6423dae2-195c-4e18-ade8-9f605d919985",
   "metadata": {},
   "outputs": [
    {
     "data": {
      "text/plain": [
       "array([1, 2, 3, 4, 5])"
      ]
     },
     "execution_count": 4,
     "metadata": {},
     "output_type": "execute_result"
    }
   ],
   "source": [
    "np.array(python_list)"
   ]
  },
  {
   "cell_type": "code",
   "execution_count": 5,
   "id": "09da7e83-4e10-4ea8-ba88-abdf476c2df1",
   "metadata": {},
   "outputs": [],
   "source": [
    "numpy_arr = np.array(python_list)"
   ]
  },
  {
   "cell_type": "code",
   "execution_count": 6,
   "id": "85c7e133-57ea-493f-a091-def20db369c4",
   "metadata": {},
   "outputs": [
    {
     "data": {
      "text/plain": [
       "(5,)"
      ]
     },
     "execution_count": 6,
     "metadata": {},
     "output_type": "execute_result"
    }
   ],
   "source": [
    "numpy_arr.shape"
   ]
  },
  {
   "cell_type": "code",
   "execution_count": 7,
   "id": "32cf9255-0628-4556-b2e1-2ddaba7b82c4",
   "metadata": {},
   "outputs": [
    {
     "data": {
      "text/plain": [
       "1"
      ]
     },
     "execution_count": 7,
     "metadata": {},
     "output_type": "execute_result"
    }
   ],
   "source": [
    "len(numpy_arr.shape)"
   ]
  },
  {
   "cell_type": "code",
   "execution_count": 8,
   "id": "51e5a72d-7ac7-443b-9c10-e3f1c14ce9c5",
   "metadata": {},
   "outputs": [],
   "source": [
    "python_list_list = [[1,2],[3,0]]"
   ]
  },
  {
   "cell_type": "code",
   "execution_count": 9,
   "id": "4cba77ae-3084-4bbc-a03e-c10a5fec19b1",
   "metadata": {},
   "outputs": [
    {
     "data": {
      "text/plain": [
       "[[1, 2], [3, 0]]"
      ]
     },
     "execution_count": 9,
     "metadata": {},
     "output_type": "execute_result"
    }
   ],
   "source": [
    "python_list_list"
   ]
  },
  {
   "cell_type": "code",
   "execution_count": 10,
   "id": "36a1875a-d5b3-4a8a-a580-087bc0b69bc4",
   "metadata": {},
   "outputs": [
    {
     "data": {
      "text/plain": [
       "array([[1, 2],\n",
       "       [3, 0]])"
      ]
     },
     "execution_count": 10,
     "metadata": {},
     "output_type": "execute_result"
    }
   ],
   "source": [
    "np.array(python_list_list)"
   ]
  },
  {
   "cell_type": "code",
   "execution_count": 12,
   "id": "18d5bb69-5d62-4aa0-940f-aed126580fa3",
   "metadata": {},
   "outputs": [],
   "source": [
    "numpy_arr2 = np.array(python_list_list)"
   ]
  },
  {
   "cell_type": "code",
   "execution_count": 13,
   "id": "1edc51b3-e1e6-459e-b5f9-478f6d1a96a9",
   "metadata": {},
   "outputs": [
    {
     "data": {
      "text/plain": [
       "2"
      ]
     },
     "execution_count": 13,
     "metadata": {},
     "output_type": "execute_result"
    }
   ],
   "source": [
    "len(numpy_arr2.shape)"
   ]
  },
  {
   "cell_type": "code",
   "execution_count": 14,
   "id": "7578303c-8164-4ee8-b32d-d1439fa6afa4",
   "metadata": {},
   "outputs": [
    {
     "data": {
      "text/plain": [
       "(2, 2)"
      ]
     },
     "execution_count": 14,
     "metadata": {},
     "output_type": "execute_result"
    }
   ],
   "source": [
    "numpy_arr2.shape"
   ]
  },
  {
   "cell_type": "code",
   "execution_count": 15,
   "id": "4228e281-6cc5-4237-bbf7-b6a732b5fd83",
   "metadata": {},
   "outputs": [
    {
     "data": {
      "text/plain": [
       "array([[1, 2],\n",
       "       [3, 0]])"
      ]
     },
     "execution_count": 15,
     "metadata": {},
     "output_type": "execute_result"
    }
   ],
   "source": [
    "numpy_arr2"
   ]
  },
  {
   "cell_type": "code",
   "execution_count": 17,
   "id": "79c63561-135d-494e-9acd-26d3ef46411c",
   "metadata": {},
   "outputs": [],
   "source": [
    "python_list_list = [[1,2,5],[3,0,9]]"
   ]
  },
  {
   "cell_type": "code",
   "execution_count": 18,
   "id": "28ebe51e-93b8-4baa-ba11-981210ef43e1",
   "metadata": {},
   "outputs": [
    {
     "data": {
      "text/plain": [
       "(2, 3)"
      ]
     },
     "execution_count": 18,
     "metadata": {},
     "output_type": "execute_result"
    }
   ],
   "source": [
    "np.array(python_list_list).shape"
   ]
  },
  {
   "cell_type": "code",
   "execution_count": 19,
   "id": "0d32a6cd-3b16-476d-87f3-29f5977f8c39",
   "metadata": {},
   "outputs": [
    {
     "data": {
      "text/plain": [
       "[0, 1, 2, 3, 4]"
      ]
     },
     "execution_count": 19,
     "metadata": {},
     "output_type": "execute_result"
    }
   ],
   "source": [
    "list(range(5))"
   ]
  },
  {
   "cell_type": "code",
   "execution_count": 21,
   "id": "85ebc0b6-69e5-4bcc-adbb-de139235b820",
   "metadata": {},
   "outputs": [
    {
     "data": {
      "text/plain": [
       "array([0, 1, 2, 3, 4])"
      ]
     },
     "execution_count": 21,
     "metadata": {},
     "output_type": "execute_result"
    }
   ],
   "source": [
    "np.arange(5)"
   ]
  },
  {
   "cell_type": "code",
   "execution_count": 23,
   "id": "ebff0cf0-f967-46f8-a7ef-e2246380b1dd",
   "metadata": {},
   "outputs": [
    {
     "data": {
      "text/plain": [
       "array([[[0., 0.],\n",
       "        [0., 0.]],\n",
       "\n",
       "       [[0., 0.],\n",
       "        [0., 0.]]])"
      ]
     },
     "execution_count": 23,
     "metadata": {},
     "output_type": "execute_result"
    }
   ],
   "source": [
    "np.zeros((2,2,2))"
   ]
  },
  {
   "cell_type": "code",
   "execution_count": 24,
   "id": "cbaac9ab-35e7-48e8-97d6-d18b925383e6",
   "metadata": {},
   "outputs": [
    {
     "data": {
      "text/plain": [
       "array([[1.]])"
      ]
     },
     "execution_count": 24,
     "metadata": {},
     "output_type": "execute_result"
    }
   ],
   "source": [
    "np.ones((1,1))"
   ]
  },
  {
   "cell_type": "code",
   "execution_count": 25,
   "id": "19fcf0e1-13b5-447a-bb18-224454b9ae76",
   "metadata": {},
   "outputs": [
    {
     "data": {
      "text/plain": [
       "4"
      ]
     },
     "execution_count": 25,
     "metadata": {},
     "output_type": "execute_result"
    }
   ],
   "source": [
    "np.random.randint(5)"
   ]
  },
  {
   "cell_type": "code",
   "execution_count": 26,
   "id": "c23d389e-3254-474d-81f1-f7bebc4537c2",
   "metadata": {},
   "outputs": [
    {
     "data": {
      "text/plain": [
       "array([[3, 4],\n",
       "       [4, 0]], dtype=int32)"
      ]
     },
     "execution_count": 26,
     "metadata": {},
     "output_type": "execute_result"
    }
   ],
   "source": [
    "np.random.randint(5, size=(2,2))"
   ]
  },
  {
   "cell_type": "code",
   "execution_count": null,
   "id": "275d275c-6b75-49eb-a0aa-11ca5c5439ce",
   "metadata": {},
   "outputs": [],
   "source": []
  }
 ],
 "metadata": {
  "kernelspec": {
   "display_name": "Python 3 (ipykernel)",
   "language": "python",
   "name": "python3"
  },
  "language_info": {
   "codemirror_mode": {
    "name": "ipython",
    "version": 3
   },
   "file_extension": ".py",
   "mimetype": "text/x-python",
   "name": "python",
   "nbconvert_exporter": "python",
   "pygments_lexer": "ipython3",
   "version": "3.13.0"
  }
 },
 "nbformat": 4,
 "nbformat_minor": 5
}
